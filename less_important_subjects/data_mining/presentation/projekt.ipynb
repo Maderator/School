{
 "cells": [
  {
   "cell_type": "markdown",
   "metadata": {
    "slideshow": {
     "slide_type": "slide"
    },
    "tags": []
   },
   "source": [
    "# Divorce Prediction\n",
    "\n",
    "Jan Maděra\n",
    "\n",
    "* Source: https://www.kaggle.com/andrewmvd/divorce-prediction\n",
    "\n",
    "* Prediction of divorce based on 54 answers to questionaire\n"
   ]
  },
  {
   "cell_type": "markdown",
   "metadata": {
    "slideshow": {
     "slide_type": "subslide"
    }
   },
   "source": [
    "Subslide"
   ]
  },
  {
   "cell_type": "markdown",
   "metadata": {
    "slideshow": {
     "slide_type": "slide"
    }
   },
   "source": [
    "## Dataset"
   ]
  },
  {
   "cell_type": "markdown",
   "metadata": {
    "slideshow": {
     "slide_type": "fragment"
    }
   },
   "source": [
    "* 170 couples from Turkey\n",
    "* 54 questions with 5 point scale response:\n",
    "    * (0=Never, 1=Seldom, 2=Averagely, 3=Frequently, 4=Always)\n",
    "* Divorce column (1=couple stayed together, 0=divorced)"
   ]
  },
  {
   "cell_type": "code",
   "execution_count": 1,
   "metadata": {
    "slideshow": {
     "slide_type": "fragment"
    }
   },
   "outputs": [
    {
     "data": {
      "text/html": [
       "<div>\n",
       "<style scoped>\n",
       "    .dataframe tbody tr th:only-of-type {\n",
       "        vertical-align: middle;\n",
       "    }\n",
       "\n",
       "    .dataframe tbody tr th {\n",
       "        vertical-align: top;\n",
       "    }\n",
       "\n",
       "    .dataframe thead th {\n",
       "        text-align: right;\n",
       "    }\n",
       "</style>\n",
       "<table border=\"1\" class=\"dataframe\">\n",
       "  <thead>\n",
       "    <tr style=\"text-align: right;\">\n",
       "      <th></th>\n",
       "      <th>Q1</th>\n",
       "      <th>Q2</th>\n",
       "      <th>Q3</th>\n",
       "      <th>Q4</th>\n",
       "      <th>Q5</th>\n",
       "      <th>Q6</th>\n",
       "      <th>Q7</th>\n",
       "      <th>Q8</th>\n",
       "      <th>Q9</th>\n",
       "      <th>Q10</th>\n",
       "      <th>...</th>\n",
       "      <th>Q46</th>\n",
       "      <th>Q47</th>\n",
       "      <th>Q48</th>\n",
       "      <th>Q49</th>\n",
       "      <th>Q50</th>\n",
       "      <th>Q51</th>\n",
       "      <th>Q52</th>\n",
       "      <th>Q53</th>\n",
       "      <th>Q54</th>\n",
       "      <th>Divorce</th>\n",
       "    </tr>\n",
       "  </thead>\n",
       "  <tbody>\n",
       "    <tr>\n",
       "      <th>0</th>\n",
       "      <td>2</td>\n",
       "      <td>2</td>\n",
       "      <td>4</td>\n",
       "      <td>1</td>\n",
       "      <td>0</td>\n",
       "      <td>0</td>\n",
       "      <td>0</td>\n",
       "      <td>0</td>\n",
       "      <td>0</td>\n",
       "      <td>0</td>\n",
       "      <td>...</td>\n",
       "      <td>2</td>\n",
       "      <td>1</td>\n",
       "      <td>3</td>\n",
       "      <td>3</td>\n",
       "      <td>3</td>\n",
       "      <td>2</td>\n",
       "      <td>3</td>\n",
       "      <td>2</td>\n",
       "      <td>1</td>\n",
       "      <td>1</td>\n",
       "    </tr>\n",
       "    <tr>\n",
       "      <th>1</th>\n",
       "      <td>4</td>\n",
       "      <td>4</td>\n",
       "      <td>4</td>\n",
       "      <td>4</td>\n",
       "      <td>4</td>\n",
       "      <td>0</td>\n",
       "      <td>0</td>\n",
       "      <td>4</td>\n",
       "      <td>4</td>\n",
       "      <td>4</td>\n",
       "      <td>...</td>\n",
       "      <td>2</td>\n",
       "      <td>2</td>\n",
       "      <td>3</td>\n",
       "      <td>4</td>\n",
       "      <td>4</td>\n",
       "      <td>4</td>\n",
       "      <td>4</td>\n",
       "      <td>2</td>\n",
       "      <td>2</td>\n",
       "      <td>1</td>\n",
       "    </tr>\n",
       "    <tr>\n",
       "      <th>2</th>\n",
       "      <td>2</td>\n",
       "      <td>2</td>\n",
       "      <td>2</td>\n",
       "      <td>2</td>\n",
       "      <td>1</td>\n",
       "      <td>3</td>\n",
       "      <td>2</td>\n",
       "      <td>1</td>\n",
       "      <td>1</td>\n",
       "      <td>2</td>\n",
       "      <td>...</td>\n",
       "      <td>3</td>\n",
       "      <td>2</td>\n",
       "      <td>3</td>\n",
       "      <td>1</td>\n",
       "      <td>1</td>\n",
       "      <td>1</td>\n",
       "      <td>2</td>\n",
       "      <td>2</td>\n",
       "      <td>2</td>\n",
       "      <td>1</td>\n",
       "    </tr>\n",
       "    <tr>\n",
       "      <th>3</th>\n",
       "      <td>3</td>\n",
       "      <td>2</td>\n",
       "      <td>3</td>\n",
       "      <td>2</td>\n",
       "      <td>3</td>\n",
       "      <td>3</td>\n",
       "      <td>3</td>\n",
       "      <td>3</td>\n",
       "      <td>3</td>\n",
       "      <td>3</td>\n",
       "      <td>...</td>\n",
       "      <td>2</td>\n",
       "      <td>2</td>\n",
       "      <td>3</td>\n",
       "      <td>3</td>\n",
       "      <td>3</td>\n",
       "      <td>3</td>\n",
       "      <td>2</td>\n",
       "      <td>2</td>\n",
       "      <td>2</td>\n",
       "      <td>1</td>\n",
       "    </tr>\n",
       "    <tr>\n",
       "      <th>4</th>\n",
       "      <td>2</td>\n",
       "      <td>2</td>\n",
       "      <td>1</td>\n",
       "      <td>1</td>\n",
       "      <td>1</td>\n",
       "      <td>1</td>\n",
       "      <td>0</td>\n",
       "      <td>0</td>\n",
       "      <td>0</td>\n",
       "      <td>0</td>\n",
       "      <td>...</td>\n",
       "      <td>2</td>\n",
       "      <td>1</td>\n",
       "      <td>2</td>\n",
       "      <td>3</td>\n",
       "      <td>2</td>\n",
       "      <td>2</td>\n",
       "      <td>2</td>\n",
       "      <td>1</td>\n",
       "      <td>0</td>\n",
       "      <td>1</td>\n",
       "    </tr>\n",
       "    <tr>\n",
       "      <th>...</th>\n",
       "      <td>...</td>\n",
       "      <td>...</td>\n",
       "      <td>...</td>\n",
       "      <td>...</td>\n",
       "      <td>...</td>\n",
       "      <td>...</td>\n",
       "      <td>...</td>\n",
       "      <td>...</td>\n",
       "      <td>...</td>\n",
       "      <td>...</td>\n",
       "      <td>...</td>\n",
       "      <td>...</td>\n",
       "      <td>...</td>\n",
       "      <td>...</td>\n",
       "      <td>...</td>\n",
       "      <td>...</td>\n",
       "      <td>...</td>\n",
       "      <td>...</td>\n",
       "      <td>...</td>\n",
       "      <td>...</td>\n",
       "      <td>...</td>\n",
       "    </tr>\n",
       "    <tr>\n",
       "      <th>165</th>\n",
       "      <td>0</td>\n",
       "      <td>0</td>\n",
       "      <td>0</td>\n",
       "      <td>0</td>\n",
       "      <td>0</td>\n",
       "      <td>0</td>\n",
       "      <td>0</td>\n",
       "      <td>0</td>\n",
       "      <td>0</td>\n",
       "      <td>0</td>\n",
       "      <td>...</td>\n",
       "      <td>1</td>\n",
       "      <td>0</td>\n",
       "      <td>4</td>\n",
       "      <td>1</td>\n",
       "      <td>1</td>\n",
       "      <td>4</td>\n",
       "      <td>2</td>\n",
       "      <td>2</td>\n",
       "      <td>2</td>\n",
       "      <td>0</td>\n",
       "    </tr>\n",
       "    <tr>\n",
       "      <th>166</th>\n",
       "      <td>0</td>\n",
       "      <td>0</td>\n",
       "      <td>0</td>\n",
       "      <td>0</td>\n",
       "      <td>0</td>\n",
       "      <td>0</td>\n",
       "      <td>0</td>\n",
       "      <td>0</td>\n",
       "      <td>0</td>\n",
       "      <td>0</td>\n",
       "      <td>...</td>\n",
       "      <td>4</td>\n",
       "      <td>1</td>\n",
       "      <td>2</td>\n",
       "      <td>2</td>\n",
       "      <td>2</td>\n",
       "      <td>2</td>\n",
       "      <td>3</td>\n",
       "      <td>2</td>\n",
       "      <td>2</td>\n",
       "      <td>0</td>\n",
       "    </tr>\n",
       "    <tr>\n",
       "      <th>167</th>\n",
       "      <td>1</td>\n",
       "      <td>1</td>\n",
       "      <td>0</td>\n",
       "      <td>0</td>\n",
       "      <td>0</td>\n",
       "      <td>0</td>\n",
       "      <td>0</td>\n",
       "      <td>0</td>\n",
       "      <td>0</td>\n",
       "      <td>1</td>\n",
       "      <td>...</td>\n",
       "      <td>3</td>\n",
       "      <td>0</td>\n",
       "      <td>2</td>\n",
       "      <td>0</td>\n",
       "      <td>1</td>\n",
       "      <td>1</td>\n",
       "      <td>3</td>\n",
       "      <td>0</td>\n",
       "      <td>0</td>\n",
       "      <td>0</td>\n",
       "    </tr>\n",
       "    <tr>\n",
       "      <th>168</th>\n",
       "      <td>0</td>\n",
       "      <td>0</td>\n",
       "      <td>0</td>\n",
       "      <td>0</td>\n",
       "      <td>0</td>\n",
       "      <td>0</td>\n",
       "      <td>0</td>\n",
       "      <td>0</td>\n",
       "      <td>0</td>\n",
       "      <td>0</td>\n",
       "      <td>...</td>\n",
       "      <td>3</td>\n",
       "      <td>3</td>\n",
       "      <td>2</td>\n",
       "      <td>2</td>\n",
       "      <td>3</td>\n",
       "      <td>2</td>\n",
       "      <td>4</td>\n",
       "      <td>3</td>\n",
       "      <td>1</td>\n",
       "      <td>0</td>\n",
       "    </tr>\n",
       "    <tr>\n",
       "      <th>169</th>\n",
       "      <td>0</td>\n",
       "      <td>0</td>\n",
       "      <td>0</td>\n",
       "      <td>0</td>\n",
       "      <td>0</td>\n",
       "      <td>0</td>\n",
       "      <td>0</td>\n",
       "      <td>1</td>\n",
       "      <td>0</td>\n",
       "      <td>0</td>\n",
       "      <td>...</td>\n",
       "      <td>3</td>\n",
       "      <td>4</td>\n",
       "      <td>4</td>\n",
       "      <td>0</td>\n",
       "      <td>1</td>\n",
       "      <td>3</td>\n",
       "      <td>3</td>\n",
       "      <td>3</td>\n",
       "      <td>1</td>\n",
       "      <td>0</td>\n",
       "    </tr>\n",
       "  </tbody>\n",
       "</table>\n",
       "<p>170 rows × 55 columns</p>\n",
       "</div>"
      ],
      "text/plain": [
       "     Q1  Q2  Q3  Q4  Q5  Q6  Q7  Q8  Q9  Q10  ...  Q46  Q47  Q48  Q49  Q50  \\\n",
       "0     2   2   4   1   0   0   0   0   0    0  ...    2    1    3    3    3   \n",
       "1     4   4   4   4   4   0   0   4   4    4  ...    2    2    3    4    4   \n",
       "2     2   2   2   2   1   3   2   1   1    2  ...    3    2    3    1    1   \n",
       "3     3   2   3   2   3   3   3   3   3    3  ...    2    2    3    3    3   \n",
       "4     2   2   1   1   1   1   0   0   0    0  ...    2    1    2    3    2   \n",
       "..   ..  ..  ..  ..  ..  ..  ..  ..  ..  ...  ...  ...  ...  ...  ...  ...   \n",
       "165   0   0   0   0   0   0   0   0   0    0  ...    1    0    4    1    1   \n",
       "166   0   0   0   0   0   0   0   0   0    0  ...    4    1    2    2    2   \n",
       "167   1   1   0   0   0   0   0   0   0    1  ...    3    0    2    0    1   \n",
       "168   0   0   0   0   0   0   0   0   0    0  ...    3    3    2    2    3   \n",
       "169   0   0   0   0   0   0   0   1   0    0  ...    3    4    4    0    1   \n",
       "\n",
       "     Q51  Q52  Q53  Q54  Divorce  \n",
       "0      2    3    2    1        1  \n",
       "1      4    4    2    2        1  \n",
       "2      1    2    2    2        1  \n",
       "3      3    2    2    2        1  \n",
       "4      2    2    1    0        1  \n",
       "..   ...  ...  ...  ...      ...  \n",
       "165    4    2    2    2        0  \n",
       "166    2    3    2    2        0  \n",
       "167    1    3    0    0        0  \n",
       "168    2    4    3    1        0  \n",
       "169    3    3    3    1        0  \n",
       "\n",
       "[170 rows x 55 columns]"
      ]
     },
     "metadata": {},
     "output_type": "display_data"
    },
    {
     "name": "stdout",
     "output_type": "stream",
     "text": [
      "Divorce values:\n",
      "0    86\n",
      "1    84\n",
      "Name: Divorce, dtype: int64\n"
     ]
    }
   ],
   "source": [
    "import pandas as pd\n",
    "\n",
    "df = pd.read_csv('divorce_data.csv', sep=';')\n",
    "display(df)\n",
    "#display(df.head())\n",
    "print(\"Divorce values:\")\n",
    "print(df['Divorce'].value_counts())"
   ]
  },
  {
   "cell_type": "markdown",
   "metadata": {
    "slideshow": {
     "slide_type": "slide"
    }
   },
   "source": [
    "## Dataset questions"
   ]
  },
  {
   "cell_type": "code",
   "execution_count": 2,
   "metadata": {
    "slideshow": {
     "slide_type": "fragment"
    }
   },
   "outputs": [
    {
     "name": "stdout",
     "output_type": "stream",
     "text": [
      "\n",
      "0 :  If one of us apologizes when our discussion deteriorates, the discussion ends.\n",
      "\n",
      "1 :  I know we can ignore our differences, even if things get hard sometimes.\n",
      "\n",
      "2 :  When we need it, we can take our discussions with my spouse from the beginning and correct it.\n",
      "\n",
      "3 :  When I discuss with my spouse, to contact him will eventually work.\n",
      "\n",
      "4 :  The time I spent with my wife is special for us.\n",
      "\n",
      "5 :  We don't have time at home as partners.\n",
      "\n",
      "6 :  We are like two strangers who share the same environment at home rather than family.\n",
      "\n",
      "7 :  I enjoy our holidays with my wife.\n",
      "\n",
      "8 :  I enjoy traveling with my wife.\n",
      "\n",
      "9 :  Most of our goals are common to my spouse.\n",
      "\n",
      "10 :  I think that one day in the future, when I look back, I see that my spouse and I have been in harmony with each other.\n",
      "\n",
      "11 :  My spouse and I have similar values in terms of personal freedom.\n",
      "\n",
      "12 :  My spouse and I have similar sense of entertainment.\n",
      "\n",
      "13 :  Most of our goals for people (children, friends, etc.) are the same.\n",
      "\n",
      "14 :  Our dreams with my spouse are similar and harmonious.\n",
      "\n",
      "15 :  We're compatible with my spouse about what love should be.\n",
      "\n",
      "16 :  We share the same views about being happy in our life with my spouse\n",
      "\n",
      "17 :  My spouse and I have similar ideas about how marriage should be\n",
      "\n",
      "18 :  My spouse and I have similar ideas about how roles should be in marriage\n",
      "\n",
      "19 :  My spouse and I have similar values in trust.\n",
      "\n",
      "20 :  I know exactly what my wife likes.\n",
      "\n",
      "21 :  I know how my spouse wants to be taken care of when she/he sick.\n",
      "\n",
      "22 :  I know my spouse's favorite food.\n",
      "\n",
      "23 :  I can tell you what kind of stress my spouse is facing in her/his life.\n",
      "\n",
      "24 :  I have knowledge of my spouse's inner world.\n",
      "\n",
      "25 :  I know my spouse's basic anxieties.\n",
      "\n",
      "26 :  I know what my spouse's current sources of stress are.\n",
      "\n",
      "27 :  I know my spouse's hopes and wishes.\n",
      "\n",
      "28 :  I know my spouse very well.\n",
      "\n",
      "29 :  I know my spouse's friends and their social relationships.\n",
      "\n",
      "30 :  I feel aggressive when I argue with my spouse.\n",
      "\n",
      "31 :  When discussing with my spouse, I usually use expressions such as ‘you always’ or ‘you never’ .\n",
      "\n",
      "32 :  I can use negative statements about my spouse's personality during our discussions.\n",
      "\n",
      "33 :  I can use offensive expressions during our discussions.\n",
      "\n",
      "34 :  I can insult my spouse during our discussions.\n",
      "\n",
      "35 :  I can be humiliating when we discussions.\n",
      "\n",
      "36 :  My discussion with my spouse is not calm.\n",
      "\n",
      "37 :  I hate my spouse's way of open a subject.\n",
      "\n",
      "38 :  Our discussions often occur suddenly.\n",
      "\n",
      "39 :  We're just starting a discussion before I know what's going on.\n",
      "\n",
      "40 :  When I talk to my spouse about something, my calm suddenly breaks.\n",
      "\n",
      "41 :  When I argue with my spouse, ı only go out and I don't say a word.\n",
      "\n",
      "42 :  I mostly stay silent to calm the environment a little bit.\n",
      "\n",
      "43 :  Sometimes I think it's good for me to leave home for a while.\n",
      "\n",
      "44 :  I'd rather stay silent than discuss with my spouse.\n",
      "\n",
      "45 :  Even if I'm right in the discussion, I stay silent to hurt my spouse.\n",
      "\n",
      "46 :  When I discuss with my spouse, I stay silent because I am afraid of not being able to control my anger.\n",
      "\n",
      "47 :  I feel right in our discussions.\n",
      "\n",
      "48 :  I have nothing to do with what I've been accused of.\n",
      "\n",
      "49 :  I'm not actually the one who's guilty about what I'm accused of.\n",
      "\n",
      "50 :  I'm not the one who's wrong about problems at home.\n",
      "\n",
      "51 :  I wouldn't hesitate to tell my spouse about her/his inadequacy.\n",
      "\n",
      "52 :  When I discuss, I remind my spouse of her/his inadequacy.\n",
      "\n",
      "53 :  I'm not afraid to tell my spouse about her/his incompetence.\n"
     ]
    }
   ],
   "source": [
    "reference = pd.read_csv('reference.tsv', sep='|')\n",
    "with pd.option_context('display.max_colwidth', None):  # more options can be specified also\n",
    "    for i, desc in enumerate(reference[\"description\"]):\n",
    "        print()\n",
    "        print(i, \": \", desc)"
   ]
  },
  {
   "cell_type": "code",
   "execution_count": 3,
   "metadata": {
    "slideshow": {
     "slide_type": "fragment"
    }
   },
   "outputs": [
    {
     "name": "stdout",
     "output_type": "stream",
     "text": [
      "\n",
      "\n",
      "\n",
      "\n",
      "\n",
      "\n",
      "\n",
      "\n",
      "\n",
      "\n",
      "\n",
      "\n",
      "\n",
      "\n",
      "\n",
      "\n",
      "\n",
      "\n",
      "\n",
      "\n"
     ]
    }
   ],
   "source": [
    "for i in range(20):\n",
    "    print()\n"
   ]
  },
  {
   "cell_type": "markdown",
   "metadata": {
    "slideshow": {
     "slide_type": "slide"
    }
   },
   "source": [
    "### Correlation"
   ]
  },
  {
   "cell_type": "code",
   "execution_count": 4,
   "metadata": {
    "slideshow": {
     "slide_type": "fragment"
    }
   },
   "outputs": [
    {
     "data": {
      "image/png": "[encoded data removed]",
      "text/plain": [
       "<Figure size 1008x720 with 2 Axes>"
      ]
     },
     "metadata": {
      "needs_background": "light"
     },
     "output_type": "display_data"
    }
   ],
   "source": [
    "# Plot correlogram\n",
    "import seaborn as sns\n",
    "import matplotlib.pyplot as plt\n",
    "\n",
    "plt.figure(figsize=(14,10))\n",
    "sns.heatmap(2*df.corr()-1)\n",
    "plt.show()"
   ]
  },
  {
   "cell_type": "markdown",
   "metadata": {
    "slideshow": {
     "slide_type": "slide"
    }
   },
   "source": [
    "## Classification"
   ]
  },
  {
   "cell_type": "code",
   "execution_count": 12,
   "metadata": {
    "slideshow": {
     "slide_type": "skip"
    }
   },
   "outputs": [],
   "source": [
    "from sklearn.model_selection import train_test_split\n",
    "from sklearn.metrics import plot_confusion_matrix\n",
    "\n",
    "from graphviz import Source\n",
    "\n",
    "X = df.drop(['Divorce'], axis=1)\n",
    "y = df['Divorce']\n",
    "\n",
    "X_train, X_test, y_train, y_test = train_test_split(X, y, test_size=0.5, random_state=None)"
   ]
  },
  {
   "cell_type": "markdown",
   "metadata": {
    "slideshow": {
     "slide_type": "subslide"
    }
   },
   "source": [
    "### Decision Tree Classifier\n",
    "test_size=0.5"
   ]
  },
  {
   "cell_type": "code",
   "execution_count": 22,
   "metadata": {
    "slideshow": {
     "slide_type": "subslide"
    }
   },
   "outputs": [
    {
     "name": "stdout",
     "output_type": "stream",
     "text": [
      "tree depth: <bound method BaseDecisionTree.get_depth of DecisionTreeClassifier(max_depth=1)> accuracy: 0.9647\n"
     ]
    },
    {
     "data": {
      "image/png": "[encoded data removed]",
      "text/plain": [
       "<Figure size 432x288 with 1 Axes>"
      ]
     },
     "metadata": {
      "needs_background": "light"
     },
     "output_type": "display_data"
    },
    {
     "data": {
      "image/png": "[encoded data removed]",
      "text/plain": [
       "<Figure size 432x288 with 1 Axes>"
      ]
     },
     "metadata": {
      "needs_background": "light"
     },
     "output_type": "display_data"
    },
    {
     "name": "stdout",
     "output_type": "stream",
     "text": [
      "tree depth: <bound method BaseDecisionTree.get_depth of DecisionTreeClassifier(max_depth=2)> accuracy: 0.9882\n"
     ]
    },
    {
     "data": {
      "image/png": "[encoded data removed]",
      "text/plain": [
       "<Figure size 432x288 with 1 Axes>"
      ]
     },
     "metadata": {
      "needs_background": "light"
     },
     "output_type": "display_data"
    },
    {
     "data": {
      "image/png": "[encoded data removed]",
      "text/plain": [
       "<Figure size 432x288 with 1 Axes>"
      ]
     },
     "metadata": {
      "needs_background": "light"
     },
     "output_type": "display_data"
    },
    {
     "name": "stdout",
     "output_type": "stream",
     "text": [
      "tree depth: <bound method BaseDecisionTree.get_depth of DecisionTreeClassifier(max_depth=3)> accuracy: 0.9647\n"
     ]
    },
    {
     "data": {
      "image/png": "[encoded data removed]",
      "text/plain": [
       "<Figure size 432x288 with 1 Axes>"
      ]
     },
     "metadata": {
      "needs_background": "light"
     },
     "output_type": "display_data"
    },
    {
     "data": {
      "image/png": "[encoded data removed]",
      "text/plain": [
       "<Figure size 432x288 with 1 Axes>"
      ]
     },
     "metadata": {
      "needs_background": "light"
     },
     "output_type": "display_data"
    }
   ],
   "source": [
    "from sklearn.tree import DecisionTreeClassifier\n",
    "from sklearn import tree\n",
    "\n",
    "for i in range(1,4):\n",
    "    dt = tree.DecisionTreeClassifier(max_depth = i)\n",
    "\n",
    "    dt.fit(X_train, y_train)\n",
    "    tree.plot_tree(dt)\n",
    "    print(\"tree depth:\",dt.get_depth, \"accuracy:\", \"{:.4f}\".format(dt.score(X_test, y_test)))\n",
    "    dt_feat = pd.DataFrame(dt.feature_importances_, index=X_train.columns, columns=['feat_importance'])\n",
    "    dt_feat.sort_values('feat_importance').tail(4).plot.barh()\n",
    "    \n",
    "    disp\n",
    "    \n",
    "    plt.show()\n",
    "\n"
   ]
  },
  {
   "cell_type": "markdown",
   "metadata": {
    "slideshow": {
     "slide_type": "subslide"
    }
   },
   "source": [
    "Q18: My spouse and I have similar ideas about how roles should be in marriage\n",
    "\n",
    "Q16: We share the same views about being happy in our life with my spouse\n",
    "\n",
    "Q26: I know what my spouse's current sources of stress are."
   ]
  },
  {
   "cell_type": "code",
   "execution_count": 8,
   "metadata": {
    "slideshow": {
     "slide_type": "skip"
    }
   },
   "outputs": [
    {
     "ename": "SyntaxError",
     "evalue": "invalid syntax (<ipython-input-8-b9c2e609010f>, line 1)",
     "output_type": "error",
     "traceback": [
      "\u001b[0;36m  File \u001b[0;32m\"<ipython-input-8-b9c2e609010f>\"\u001b[0;36m, line \u001b[0;32m1\u001b[0m\n\u001b[0;31m    jupyter nbconvert ./OneDrive/MFF/LS2021/dobyvani_znalosti/projekt/projekt.ipynb --to slides --post serve --SlidesExporter.exclude_input=True --SlidesExporter.reveal_scroll=True\u001b[0m\n\u001b[0m            ^\u001b[0m\n\u001b[0;31mSyntaxError\u001b[0m\u001b[0;31m:\u001b[0m invalid syntax\n"
     ]
    }
   ],
   "source": [
    "jupyter nbconvert ./OneDrive/MFF/LS2021/dobyvani_znalosti/projekt/projekt.ipynb --to slides --post serve --SlidesExporter.exclude_input=True --SlidesExporter.reveal_scroll=True"
   ]
  }
 ],
 "metadata": {
  "celltoolbar": "Slideshow",
  "kernelspec": {
   "display_name": "Python 3",
   "language": "python",
   "name": "python3"
  },
  "language_info": {
   "codemirror_mode": {
    "name": "ipython",
    "version": 3
   },
   "file_extension": ".py",
   "mimetype": "text/x-python",
   "name": "python",
   "nbconvert_exporter": "python",
   "pygments_lexer": "ipython3",
   "version": "3.8.5"
  }
 },
 "nbformat": 4,
 "nbformat_minor": 4
}
