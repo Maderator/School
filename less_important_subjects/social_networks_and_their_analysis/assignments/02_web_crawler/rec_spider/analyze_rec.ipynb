{
 "metadata": {
  "language_info": {
   "codemirror_mode": {
    "name": "ipython",
    "version": 3
   },
   "file_extension": ".py",
   "mimetype": "text/x-python",
   "name": "python",
   "nbconvert_exporter": "python",
   "pygments_lexer": "ipython3",
   "version": "3.8.5-final"
  },
  "orig_nbformat": 2,
  "kernelspec": {
   "name": "python38564bita08b587d483f407db985a7a8847d4fb9",
   "display_name": "Python 3.8.5 64-bit",
   "language": "python"
  }
 },
 "nbformat": 4,
 "nbformat_minor": 2,
 "cells": [
  {
   "cell_type": "code",
   "execution_count": 38,
   "metadata": {
    "tags": []
   },
   "outputs": [],
   "source": [
    "import networkx as nx\n",
    "import process\n",
    "import matplotlib.pyplot as plt\n",
    "\n",
    "recipes = process.process_recipes('recipes.jl')\n",
    "names = []\n",
    "for rec in recipes:\n",
    "    names.append(rec['name'])\n",
    "\n",
    "ing_words = set()\n",
    "edges = []\n",
    "for rec in recipes:\n",
    "    ings = rec['ingredients']\n",
    "    for ing in ings:\n",
    "        words = ing.split()\n",
    "        for word in words:\n",
    "            ing_words.add(word)\n",
    "            edges.append((rec['name'],word))\n",
    "ing_words = list(ing_words)"
   ]
  },
  {
   "cell_type": "code",
   "execution_count": 39,
   "metadata": {},
   "outputs": [],
   "source": [
    "# Create bipartite graph\n",
    "B = nx.Graph()\n",
    "B.add_nodes_from(names, bipartite=0)\n",
    "B.add_nodes_from(ing_words, bipartite=1)\n",
    "B.add_edges_from(edges)"
   ]
  },
  {
   "cell_type": "code",
   "execution_count": 40,
   "metadata": {},
   "outputs": [
    {
     "output_type": "stream",
     "name": "stdout",
     "text": [
      "Recipes: 1001\nIngredients: 1993\nEdges: 24011\n"
     ]
    }
   ],
   "source": [
    "# draw bipartite graph\n",
    "print('Recipes:', len(names))\n",
    "print('Ingredients:', len(ing_words))\n",
    "print('Edges:', len(edges))\n",
    "\n",
    "if nx.is_connected(B):\n",
    "    l, r = nx.bipartite.sets(B)\n",
    "else:\n",
    "    l = {n for n, d in B.nodes(data=True) if d[\"bipartite\"] == 0}\n",
    "    r = set(B) - l\n",
    "pos = {}\n",
    "\n",
    "pos.update((node, (1, index)) for index, node in enumerate(l))\n",
    "pos.update((node, (2, index)) for index, node in enumerate(r))\n",
    "\n",
    "#nx.draw(B, pos=pos)\n",
    "#plt.show()"
   ]
  },
  {
   "cell_type": "code",
   "execution_count": 41,
   "metadata": {
    "tags": []
   },
   "outputs": [],
   "source": [
    "def collapse_bipartite_graph(B, recipes):\n",
    "    if nx.is_connected(B):\n",
    "        left, right = nx.bipartite.sets(B)\n",
    "    else:\n",
    "        left = {n for n, d in B.nodes(data=True) if d[\"bipartite\"] == 0}\n",
    "        right = set(B) - left\n",
    "    if recipes:\n",
    "        return nx.bipartite.projected_graph(B, left)\n",
    "    else:\n",
    "        return nx.bipartite.projected_graph(B, right)\n",
    "\n",
    "G_rec = collapse_bipartite_graph(B, True)\n",
    "\n",
    "G_ing = collapse_bipartite_graph(B, False)\n",
    "#print(G.nodes())\n",
    "#pos = nx.spring_layout(G)\n",
    "#nx.draw(G, pos=pos)"
   ]
  },
  {
   "source": [
    "# STRENGTH\n",
    "I will first try to use strength measures to find out some recipes (ingredients) with strong ties, overlap and small span."
   ],
   "cell_type": "markdown",
   "metadata": {}
  },
  {
   "source": [
    "def tie_strength(G, v, w):\n",
    "    # return the numebr of common friends +1\n",
    "    v_neighbours = set(G.neighbors(v))\n",
    "    w_neighbours = set(G.neighbors(w))\n",
    "    \n",
    "    return len(v_neighbours & w_neighbours) + 1\n",
    "\n",
    "def overlap(G,u,v):\n",
    "    # return overlap(u,v)\n",
    "    u_neighbours = set(G.neighbors(u))\n",
    "    v_neighbours = set(G.neighbors(v))\n",
    "\n",
    "    return len(u_neighbours & v_neighbours) / len(u_neighbours | v_neighbours)\n",
    "\n",
    "def span(G,u,v):\n",
    "    # return the distance between nodes u and v of the network G \n",
    "    # when the edge {u,v} is removed from the network\n",
    "    G.remove_edge(u,v)\n",
    "    try:\n",
    "      res = nx.shortest_path_length(G,u,v)\n",
    "    except nx.NetworkXNoPath:\n",
    "      res = 0\n",
    "    G.add_edge(u,v)\n",
    "    return res"
   ],
   "cell_type": "code",
   "metadata": {},
   "execution_count": null,
   "outputs": []
  },
  {
   "cell_type": "code",
   "execution_count": 43,
   "metadata": {
    "tags": []
   },
   "outputs": [],
   "source": [
    "# Recipes graph strenghts\n",
    "\n",
    "rec_tie_str = dict(\n",
    "    ((v,w), tie_strength(G_rec, v, w)) for v, w in G_rec.edges()\n",
    ")\n",
    "sort_rec_tie_str = sorted(rec_tie_str.items(), key=lambda x:x[1], reverse=True)\n",
    "\n",
    "rec_overlap_str = dict(\n",
    "    ((v,w), overlap(G_rec, v, w)) for v, w in G_rec.edges()\n",
    ")\n",
    "sort_rec_overlap_str = sorted(rec_overlap_str.items(), key=lambda x:x[1], reverse=True)\n",
    "\n",
    "rec_span_str  = dict(\n",
    "    ((v,w), span(G_rec, v, w)) for v, w in G_rec.edges()\n",
    ")\n",
    "sort_rec_span_str = sorted(rec_span_str.items(), key=lambda x:x[1], reverse=False)"
   ]
  },
  {
   "source": [
    "### RESULTS\n",
    "We can see that there are some recipes which names sound like some meat pies which are connected together and also with 'Beef Crostini with Horseradish Spread' which looks like Czech 'Chlebíčky' which is similar to small meat pie.\n",
    "\n",
    "The recipes with strongest overlap are strangely connected. There is connection of recipes with chicken and sweet recipes like chocolate cheesecake, Crispy Creamy Potato Pancakes.\n",
    "It seems like there are some similar ingrediences between these sweet and meaty foods but in next part of this notebook, I will try to find communities by using some networkX community library algorithms."
   ],
   "cell_type": "markdown",
   "metadata": {}
  },
  {
   "cell_type": "code",
   "execution_count": 44,
   "metadata": {
    "tags": []
   },
   "outputs": [
    {
     "output_type": "stream",
     "name": "stdout",
     "text": [
      "[(('Jack’s Carrot Cake', 'Beef Crostini with Horseradish Spread'), 971), (('Glenn’s Sweet & Spicy Slow Cooker Chili', 'Beef Crostini with Horseradish Spread'), 970), (('Jack’s Carrot Cake', 'Glenn’s Sweet & Spicy Slow Cooker Chili'), 968), (('Glenn’s Sweet & Spicy Slow Cooker Chili', 'Spaghetti Pie'), 968), (('Jack’s Carrot Cake', 'Cara Cara Beet Salad'), 967), (('Jack’s Carrot Cake', 'Pumpkin Cider Poke Cake'), 967), (('Beef Crostini with Horseradish Spread', 'Spaghetti Pie'), 967), (('Chicken Carbonara', 'Creamy Summer Squash Casserole'), 966), (('Chicken Carbonara', 'Jack’s Carrot Cake'), 966), (('Mostarda', 'Sweet and Spicy Smoked Pork Ribs'), 966)]\n\n[(('Four Cheese Baked Manicotti', 'Spinach Lasagna Rollups'), 0.9978768577494692), (('White Barbecue Chicken', 'How to Grill Chicken Drumsticks'), 0.9977142857142857), (('Chocolate Peanut Butter Pie', 'Chocolate Peanut Butter Cheesecake Bites'), 0.9975460122699387), (('Chicken Lasagna with Pesto Cream Sauce', 'Keto ‘Mac’ and Cheese with Sausage'), 0.9968911917098445), (('Pepper Jack Potato Pancakes', 'Crispy Creamy Potato Pancakes'), 0.9968520461699895), (('Stuffed Meatballs', 'Italian-Style Meatballs'), 0.9968253968253968), (('Cinnamon Raisin Swirl Babka', 'Polish Babka'), 0.9967982924226254), (('Blueberry Buckle', 'Mixed Berry Buckle'), 0.9967069154774972), (('Chocolate Chip Peanut Butter Pie', 'Chocolate Peanut Butter Pie'), 0.9963235294117647), (('Chocolate Chip Peanut Butter Pie', 'Chocolate Peanut Butter Cheesecake Bites'), 0.9963235294117647)]\n\n[(('Hummus with Caramelized Cauliflower and Onions', 'Chinese BBQ Pork'), 2), (('Hummus with Caramelized Cauliflower and Onions', 'Carne Asada'), 2), (('Hummus with Caramelized Cauliflower and Onions', 'Shakshuka'), 2), (('Hummus with Caramelized Cauliflower and Onions', 'Roasted Asparagus'), 2), (('Hummus with Caramelized Cauliflower and Onions', 'Apple-Stuffed Acorn Squash'), 2), (('Hummus with Caramelized Cauliflower and Onions', 'Italian Beef and Sausage Pie'), 2), (('Hummus with Caramelized Cauliflower and Onions', 'Cinnamon Raisin Swirl Babka'), 2), (('Hummus with Caramelized Cauliflower and Onions', 'Grilled Spaghetti Squash Steaks'), 2), (('Hummus with Caramelized Cauliflower and Onions', 'Bourbon Barbecue Sauce'), 2), (('Hummus with Caramelized Cauliflower and Onions', 'Cuban Panini Burger'), 2)]\n"
     ]
    }
   ],
   "source": [
    "print(sort_rec_tie_str[:10])\n",
    "print()\n",
    "print(sort_rec_overlap_str[:10])\n",
    "print()\n",
    "print(sort_rec_span_str[:10])"
   ]
  },
  {
   "cell_type": "code",
   "execution_count": 45,
   "metadata": {},
   "outputs": [],
   "source": [
    "# Ingredients graph strenghts\n",
    "\n",
    "ing_tie_str = dict(\n",
    "    ((v,w), tie_strength(G_ing, v, w)) for v, w in G_ing.edges()\n",
    ")\n",
    "sort_ing_tie_str = sorted(ing_tie_str.items(), key=lambda x:x[1], reverse=True)\n",
    "\n",
    "ing_overlap_str = dict(\n",
    "    ((v,w), overlap(G_ing, v, w)) for v, w in G_ing.edges()\n",
    ")\n",
    "sort_ing_overlap_str = sorted(ing_overlap_str.items(), key=lambda x:x[1], reverse=True)\n",
    "\n",
    "ing_span_str  = dict(\n",
    "    ((v,w), span(G_ing, v, w)) for v, w in G_ing.edges()\n",
    ")\n",
    "sort_ing_span_str = sorted(ing_span_str.items(), key=lambda x:x[1], reverse=False)"
   ]
  },
  {
   "source": [
    "### Ingredients Strength results\n",
    "\n",
    "We can see that there is strong tie between salt, pepper, oil, olive (oil), butter, onion, garlic, flour, and egg. These are main ingredients of the European quisine.\n",
    "\n",
    "In overlap, we can see words that are not ingredients and are probably only in few recipes. These words surely overlap because they are only together in the same recipes.\n",
    "\n",
    "It seems like tarragon spice is strongly connected through many recipes to other spices and basic ingredients like potato and butter.\n",
    "\n"
   ],
   "cell_type": "markdown",
   "metadata": {}
  },
  {
   "cell_type": "code",
   "execution_count": 46,
   "metadata": {
    "tags": []
   },
   "outputs": [
    {
     "output_type": "stream",
     "name": "stdout",
     "text": [
      "[(('salt', 'pepper'), 1436), (('salt', 'oil'), 1404), (('pepper', 'oil'), 1372), (('oil', 'olive'), 1309), (('salt', 'butter'), 1289), (('pepper', 'onion'), 1287), (('salt', 'onion'), 1267), (('pepper', 'garlic'), 1261), (('pepper', 'olive'), 1251), (('salt', 'olive'), 1247), (('salt', 'garlic'), 1245), (('garlic', 'oil'), 1210), (('oil', 'onion'), 1188), (('garlic', 'onion'), 1156), (('butter', 'pepper'), 1130), (('salt', 'egg'), 1114), (('garlic', 'olive'), 1106), (('olive', 'onion'), 1100), (('butter', 'oil'), 1098), (('salt', 'flour'), 1094)]\n\n[(('smith', 'granny'), 0.9913419913419913), (('marzano', 'san'), 0.9862068965517241), (('choy', 'bok'), 0.9801980198019802), (('masala', 'garam'), 0.9797979797979798), (('triple', 'sec'), 0.978494623655914), (('further', 'five'), 0.978494623655914), (('further', 'butterfly'), 0.978494623655914), (('further', 'evaporate'), 0.978494623655914), (('further', 'platter'), 0.978494623655914), (('further', 'saute'), 0.978494623655914), (('further', 'untouched'), 0.978494623655914), (('further', 'stir'), 0.978494623655914), (('further', 'coated'), 0.978494623655914), (('further', 'while'), 0.978494623655914), (('further', 'turn'), 0.978494623655914), (('further', 'lay'), 0.978494623655914), (('further', 'overcook'), 0.978494623655914), (('further', 'sit'), 0.978494623655914), (('further', 'let'), 0.978494623655914), (('further', 'reduce'), 0.978494623655914)]\n\n[(('tarragon', 'potato'), 2), (('tarragon', 'parsley'), 2), (('tarragon', 'olive'), 2), (('tarragon', 'burgundy'), 2), (('tarragon', 'rigatoni'), 2), (('tarragon', 'meat'), 2), (('tarragon', 'florets'), 2), (('tarragon', 'water'), 2), (('tarragon', 'shellon'), 2), (('tarragon', 'garlic'), 2), (('tarragon', 'bean'), 2), (('tarragon', 'parmesan'), 2), (('tarragon', 'mustard'), 2), (('tarragon', 'butter'), 2), (('tarragon', 'heirloom'), 2), (('tarragon', 'brisket'), 2), (('tarragon', 'between'), 2), (('tarragon', 'started'), 2), (('tarragon', 'oregano'), 2), (('tarragon', 'cherry'), 2)]\n"
     ]
    }
   ],
   "source": [
    "print(sort_ing_tie_str[:20])\n",
    "print()\n",
    "print(sort_ing_overlap_str[:20])\n",
    "print()\n",
    "print(sort_ing_span_str[:20])"
   ]
  },
  {
   "source": [
    "# COMMUNITIES"
   ],
   "cell_type": "markdown",
   "metadata": {}
  },
  {
   "cell_type": "code",
   "execution_count": 47,
   "metadata": {},
   "outputs": [],
   "source": [
    "# Communities\n",
    "\n",
    "from networkx.algorithms import community\n",
    "\n",
    "def print_quality_of_Communities_partition(G, part):\n",
    "    print('     coverage: ' + str(community.coverage(G,part)))\n",
    "    print('     modularity: ' + str(community.modularity(G,part)))\n",
    "    print('     performance: ' + str(community.performance(G,part)))\n"
   ]
  },
  {
   "cell_type": "code",
   "execution_count": 48,
   "metadata": {},
   "outputs": [
    {
     "output_type": "stream",
     "name": "stdout",
     "text": [
      "Number of recipes communities:5\n",
      "  communities size:\n",
      "    579\n",
      "    419\n",
      "    1\n",
      "    1\n",
      "    1\n",
      "  Recipes communities partition quality:\n",
      "     coverage: 0.5485450397818951\n",
      "     modularity: 0.031105087697770872\n",
      "     performance: 0.5743816183816184\n",
      "\n",
      "Number of ingredients communities:6\n",
      "  communities size:\n",
      "    800\n",
      "    700\n",
      "    429\n",
      "    56\n",
      "    5\n",
      "    3\n",
      "  Ingredients communities partition quality:\n",
      "     coverage: 0.5418775047565073\n",
      "     modularity: 0.16743515722521723\n",
      "     performance: 0.6728847149763126\n"
     ]
    }
   ],
   "source": [
    "# Modularity\n",
    "c_rec = list(community.greedy_modularity_communities(G_rec))\n",
    "print('Number of recipes communities:' + str(len(c_rec)))\n",
    "print('  communities size:')\n",
    "for com in c_rec:\n",
    "    print('    ' + str(len(com)))\n",
    "print('  Recipes communities partition quality:')\n",
    "print_quality_of_Communities_partition(G_rec, c_rec)\n",
    "\n",
    "c_ing = list(community.greedy_modularity_communities(G_ing))\n",
    "print()\n",
    "print('Number of ingredients communities:' + str(len(c_ing)))\n",
    "print('  communities size:')\n",
    "for com in c_ing:\n",
    "    print('    ' + str(len(com)))\n",
    "print('  Ingredients communities partition quality:')\n",
    "print_quality_of_Communities_partition(G_ing, c_ing)\n",
    "\n",
    "#for com in c:\n",
    "#    print(len(com))"
   ]
  },
  {
   "source": [
    "### Recipes community\n",
    "We can see, that first group has common ingredients of European (Italian) quisine like salt, pepper and so on.\n",
    "\n",
    "The secon community of recipes has common ingredients like sugar, salt, flour, egg, vanilla and so on. These ingredients are common for the sweet recipes and pastry. There are also recipes with meat and sweet BBQ sauce."
   ],
   "cell_type": "markdown",
   "metadata": {}
  },
  {
   "cell_type": "code",
   "execution_count": 49,
   "metadata": {
    "tags": []
   },
   "outputs": [
    {
     "output_type": "stream",
     "name": "stdout",
     "text": [
      "Community size:579\n  Most common ingredients:[('pepper', 467), ('salt', 449), ('oil', 409), ('garlic', 351), ('olive', 349), ('onion', 325), ('cheese', 244), ('butter', 202), ('tomato', 174), ('sauce', 144)]\n   Examples of recipes names:\n       Hummus with Caramelized Cauliflower and Onions\n       Carne Asada\n       Shakshuka\n       Roasted Asparagus\n       Italian Beef and Sausage Pie\n       Grilled Spaghetti Squash Steaks\n       Cuban Panini Burger\n       Focaccia\n       Vegetable Chili\n       Perfect Pork Tenderloin\n\nCommunity size:419\n  Most common ingredients:[('sugar', 327), ('salt', 275), ('butter', 260), ('egg', 214), ('flour', 208), ('vanilla', 153), ('powder', 142), ('baking', 138), ('milk', 137), ('extract', 137)]\n   Examples of recipes names:\n       Chinese BBQ Pork\n       Puff Pastry Bacon Twists\n       Baked Brie with Mostarda\n       Apple-Stuffed Acorn Squash\n       Grilled Stone Fruit with Mascarpone and Cherry Granola\n       Cinnamon Raisin Swirl Babka\n       Kielbasa and Pineapple Spiced “Candy”\n       Bourbon Barbecue Sauce\n       Eggnog Marble Cheesecake\n       Peach Bread\n\nCommunity size:1\n  Most common ingredients:[]\n   Examples of recipes names:\n       Low Carb Baking Flour\n\nCommunity size:1\n  Most common ingredients:[]\n   Examples of recipes names:\n       Caesar Salad with Grilled Caesar Chicken\n\nCommunity size:1\n  Most common ingredients:[]\n   Examples of recipes names:\n       Carb-Conscious Deli Lunch Spread\n\n"
     ]
    }
   ],
   "source": [
    "def find_common_neighbors_in_community(community, bip_G):\n",
    "    #common_n = list(bip_G.neighbors(next(iter(community))))\n",
    "    neighbors_count = dict()\n",
    "    for ind in community:\n",
    "        #print(common_n)\n",
    "        #new_common_n = []\n",
    "        neighbors = bip_G.neighbors(ind)\n",
    "        for neighbor in neighbors:\n",
    "            if neighbor in neighbors_count:\n",
    "                neighbors_count[neighbor] += 1\n",
    "            else:\n",
    "                neighbors_count[neighbor] = 1\n",
    "        #    #print(ing)\n",
    "        #    if neighbor in common_n:\n",
    "        #        new_common_n.append(neighbor)\n",
    "        #common_n = new_common_n.copy()\n",
    "    return sorted(neighbors_count.items(), key = lambda item: item[1], reverse=True)\n",
    "\n",
    "# left = recipes\n",
    "# right = ingredients\n",
    "for com in c_rec:\n",
    "    print('Community size:' + str(len(com)) + '\\n  Most common ingredients:' + str(find_common_neighbors_in_community(com, B)[:10]))\n",
    "    print('   Examples of recipes names:')\n",
    "    it = iter(com)\n",
    "    cl = len(com)\n",
    "    ex_rec = 10\n",
    "    if cl > ex_rec:\n",
    "        for i in range(ex_rec):\n",
    "            print('       ' + str(next(it)))\n",
    "    else:\n",
    "        for i in range(cl):\n",
    "            print('       ' + str(next(it)))\n",
    "    print()\n",
    "    \n"
   ]
  },
  {
   "source": [
    "### Ingredients community\n",
    "The examples of ingredients in this case are mixed with many non-ingredients words, because these are only examples from the given community.\n",
    "\n",
    "We can see in the first group of ingredients has the recipe with 47 ingredients from this community. It seems like many of the recipes are from British quisine with a lot of meat and names like Beef Wellington, New England Boiled Dinner and Beef Bourguignon (taken from French people maybe?). Only exception is the Grilled Vegetable Salad.\n",
    "\n",
    "The second group looks like sweet Babkas, cookies and breaded foods like onion rings.\n",
    "\n",
    "The third group looks like Medditerean quisine with many Italian and Greek foods.\n",
    "\n",
    "The fourth community has a lot of chicken in it.\n",
    "\n",
    "\n",
    "\n"
   ],
   "cell_type": "markdown",
   "metadata": {}
  },
  {
   "cell_type": "code",
   "execution_count": 50,
   "metadata": {},
   "outputs": [
    {
     "output_type": "stream",
     "name": "stdout",
     "text": [
      "Community size:800\n  Most common recipes:[('Holiday Chicken Soup', 47), ('Beef Wellington', 45), ('Grilled Vegetable Salad with Basil Dressing', 44), ('Instant Pot Beef and Noodles', 39), ('Chicken a la King', 39), ('Pork Lomitos Tacos', 38), ('Egg Roll in a Bowl', 36), ('Crunchy Vegetable Rice Bowl with Warm Peanut Sauce', 36), ('New England Boiled Dinner (Corned Beef and Cabbage)', 35), ('Beef Bourguignon', 35)]\n   Examples of ingredients names:\n       link\n       tbsp\n       beech\n       grapeseed\n       potato\n       tarragon\n       virginia\n       mild\n       uncured\n       aside\n       slicing\n       square\n       harissa\n       served\n       spicy\n       mashed\n       lard\n       gruyre\n       julienne\n       topped\n\nCommunity size:700\n  Most common recipes:[('Red Velvet PEEPS® Holiday Wreath Cake', 37), ('Onion Rings', 34), ('Crunchie Munchie Cookies', 32), ('Cinnamon Raisin Swirl Babka', 31), ('Malted Mocha Swiss Roll', 30), ('No-Bake Amaretto Truffles', 29), ('Polish Babka', 29), ('Sweet Potato and Apple Cake', 29), ('Slow Cooker Sourdough Stuffing with Turkey Sausage and Apples', 27), ('Steel Cut Oats Breakfast Biscotti', 26)]\n   Examples of ingredients names:\n       cashew\n       however\n       exactly\n       fill\n       evaporated\n       halfandhalf\n       steel\n       raspberry\n       bundt\n       another\n       until\n       horizon\n       lindor\n       college\n       kombucha\n       sugarred\n       ricotta\n       cooled\n       weigh\n       give\n\nCommunity size:429\n  Most common recipes:[('Creamy Italian Pasta Salad', 36), ('Macaroni and Cheese with Roasted Tomatoes', 23), ('Italian Hoagie Dip', 20), ('Mediterranean Israeli Couscous Salad', 19), ('Dill Pickle Bacon Ranch Pasta Salad', 18), ('Italian Tortellini Salad', 18), ('Antipasto Salad', 18), ('Perfect Macaroni and Cheese', 17), ('Cara Cara Beet Salad', 17), ('Mediterranean Grilled Chicken', 17)]\n   Examples of ingredients names:\n       provolone\n       squat\n       grape\n       say\n       lavash\n       pale\n       chutney\n       doritos\n       preserving\n       panko\n       brine\n       dip\n       salto\n       mayonnaise\n       romaine\n       oven\n       rinse\n       squeeze\n       packaging\n       block\n\nCommunity size:56\n  Most common recipes:[('Creamy Lemon Chicken', 46), ('White Chicken Pizza', 7), ('Perfect Herb Roasted Chicken', 5), ('Ponzu Grilled Pork Chops', 4), ('Fruit Salsa with Lime Tortilla Chips', 3), ('Chicken Carbonara', 2), ('Chile Colorado', 2), ('Tapioca Pudding', 2), ('Tomato Pie', 2), ('Chocolate Peanut Butter Bon Bons', 2)]\n   Examples of ingredients names:\n       peeler\n       let\n       five\n       cook\n       saute\n       reduce\n       boil\n       minute\n       time\n       lay\n       bchamel\n       quarterinch\n       least\n       overcook\n       yet\n       dente\n       both\n       untouched\n       sit\n       thicken\n\nCommunity size:5\n  Most common recipes:[('Zucchini and Eggs {Cocozelle}', 5)]\n   Examples of ingredients names:\n       thinner\n       running\n       crucial\n       cocozelle\n       delicate\n\nCommunity size:3\n  Most common recipes:[('Sweet Potato Spinach and Bacon Turkey Burgers', 3)]\n   Examples of ingredients names:\n       compliantromaine\n       finesliced\n       bulky\n\n"
     ]
    }
   ],
   "source": [
    "for com in c_ing:\n",
    "    print('Community size:' + str(len(com)) + '\\n  Most common recipes:' + str(find_common_neighbors_in_community(com, B)[:10]))\n",
    "    print('   Examples of ingredients names:')\n",
    "    it = iter(com)\n",
    "    cl = len(com)\n",
    "    ex_ing = 20\n",
    "    if cl > ex_ing:\n",
    "        for i in range(ex_ing):\n",
    "            print('       ' + str(next(it)))\n",
    "    else:\n",
    "        for i in range(cl):\n",
    "            print('       ' + str(next(it)))\n",
    "    print()"
   ]
  },
  {
   "source": [
    "# Other community algorithms\n",
    "\n",
    "As can be seen the Lable propagation method has wore coverage, modularity and performance than the Greedy modularity method used above. Other methods were unable to return result either because they are computationaly hard (NP complexity) or because they cannot work with graph that has more than 1 component."
   ],
   "cell_type": "markdown",
   "metadata": {}
  },
  {
   "cell_type": "code",
   "execution_count": 51,
   "metadata": {},
   "outputs": [
    {
     "output_type": "stream",
     "name": "stdout",
     "text": [
      "4\n",
      "1\n",
      "Recipes communities partition quality:\n",
      "     coverage: 1.0\n",
      "     modularity: 1.1102230246251565e-16\n",
      "     performance: 0.8678301698301698\n",
      "Ingredients communities partition quality:\n",
      "     coverage: 1.0\n",
      "     modularity: 0.0\n",
      "     performance: 0.049778642920905905\n"
     ]
    }
   ],
   "source": [
    "#Label propagation, Worse community division than in case of greedy modularity \n",
    "c_lab_rec = list(community.label_propagation_communities(G_rec))\n",
    "print(len(c_lab_rec))\n",
    "c_lab_ing = list(community.label_propagation_communities(G_ing))\n",
    "print(len(c_lab_ing))\n",
    "\n",
    "print('Recipes communities partition quality:')\n",
    "print_quality_of_Communities_partition(G_rec, c_lab_rec)\n",
    "print('Ingredients communities partition quality:')\n",
    "print_quality_of_Communities_partition(G_ing, c_lab_ing)"
   ]
  }
 ]
}